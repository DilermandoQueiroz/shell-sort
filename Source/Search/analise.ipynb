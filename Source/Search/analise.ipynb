{
 "cells": [
  {
   "cell_type": "code",
   "execution_count": 2,
   "metadata": {},
   "outputs": [],
   "source": [
    "import pandas as pd\n",
    "import matplotlib.pyplot as plt\n",
    "import seaborn as sns"
   ]
  },
  {
   "cell_type": "code",
   "execution_count": 11,
   "metadata": {},
   "outputs": [
    {
     "data": {
      "text/html": [
       "<div>\n",
       "<style scoped>\n",
       "    .dataframe tbody tr th:only-of-type {\n",
       "        vertical-align: middle;\n",
       "    }\n",
       "\n",
       "    .dataframe tbody tr th {\n",
       "        vertical-align: top;\n",
       "    }\n",
       "\n",
       "    .dataframe thead th {\n",
       "        text-align: right;\n",
       "    }\n",
       "</style>\n",
       "<table border=\"1\" class=\"dataframe\">\n",
       "  <thead>\n",
       "    <tr style=\"text-align: right;\">\n",
       "      <th></th>\n",
       "      <th>Algorithm</th>\n",
       "      <th>ArrayType</th>\n",
       "      <th>Size</th>\n",
       "      <th>Comparisons</th>\n",
       "      <th>Movements</th>\n",
       "      <th>Time(us)</th>\n",
       "    </tr>\n",
       "  </thead>\n",
       "  <tbody>\n",
       "    <tr>\n",
       "      <th>0</th>\n",
       "      <td>LinearSearch</td>\n",
       "      <td>Sorted</td>\n",
       "      <td>10</td>\n",
       "      <td>1</td>\n",
       "      <td>0</td>\n",
       "      <td>172</td>\n",
       "    </tr>\n",
       "    <tr>\n",
       "      <th>1</th>\n",
       "      <td>LinearSearch</td>\n",
       "      <td>Reversed</td>\n",
       "      <td>10</td>\n",
       "      <td>10</td>\n",
       "      <td>0</td>\n",
       "      <td>133</td>\n",
       "    </tr>\n",
       "    <tr>\n",
       "      <th>2</th>\n",
       "      <td>LinearSearch</td>\n",
       "      <td>AlmostSorted</td>\n",
       "      <td>10</td>\n",
       "      <td>3</td>\n",
       "      <td>0</td>\n",
       "      <td>155</td>\n",
       "    </tr>\n",
       "    <tr>\n",
       "      <th>3</th>\n",
       "      <td>LinearSearch</td>\n",
       "      <td>Random</td>\n",
       "      <td>10</td>\n",
       "      <td>10</td>\n",
       "      <td>0</td>\n",
       "      <td>172</td>\n",
       "    </tr>\n",
       "    <tr>\n",
       "      <th>4</th>\n",
       "      <td>LinearSearchInsert</td>\n",
       "      <td>Sorted</td>\n",
       "      <td>10</td>\n",
       "      <td>0</td>\n",
       "      <td>1</td>\n",
       "      <td>162</td>\n",
       "    </tr>\n",
       "    <tr>\n",
       "      <th>...</th>\n",
       "      <td>...</td>\n",
       "      <td>...</td>\n",
       "      <td>...</td>\n",
       "      <td>...</td>\n",
       "      <td>...</td>\n",
       "      <td>...</td>\n",
       "    </tr>\n",
       "    <tr>\n",
       "      <th>179</th>\n",
       "      <td>AVLTreeRemove</td>\n",
       "      <td>Reversed</td>\n",
       "      <td>100000</td>\n",
       "      <td>1195394</td>\n",
       "      <td>100000</td>\n",
       "      <td>33701</td>\n",
       "    </tr>\n",
       "    <tr>\n",
       "      <th>180</th>\n",
       "      <td>AVLTreeInsert</td>\n",
       "      <td>AlmostSorted</td>\n",
       "      <td>100000</td>\n",
       "      <td>1690897</td>\n",
       "      <td>100000</td>\n",
       "      <td>60447</td>\n",
       "    </tr>\n",
       "    <tr>\n",
       "      <th>181</th>\n",
       "      <td>AVLTreeRemove</td>\n",
       "      <td>AlmostSorted</td>\n",
       "      <td>100000</td>\n",
       "      <td>1392150</td>\n",
       "      <td>163670</td>\n",
       "      <td>64550</td>\n",
       "    </tr>\n",
       "    <tr>\n",
       "      <th>182</th>\n",
       "      <td>AVLTreeInsert</td>\n",
       "      <td>Random</td>\n",
       "      <td>100000</td>\n",
       "      <td>1476056</td>\n",
       "      <td>63180</td>\n",
       "      <td>61167</td>\n",
       "    </tr>\n",
       "    <tr>\n",
       "      <th>183</th>\n",
       "      <td>AVLTreeRemove</td>\n",
       "      <td>Random</td>\n",
       "      <td>100000</td>\n",
       "      <td>1462262</td>\n",
       "      <td>96828</td>\n",
       "      <td>55702</td>\n",
       "    </tr>\n",
       "  </tbody>\n",
       "</table>\n",
       "<p>184 rows × 6 columns</p>\n",
       "</div>"
      ],
      "text/plain": [
       "              Algorithm     ArrayType    Size  Comparisons  Movements  \\\n",
       "0          LinearSearch        Sorted      10            1          0   \n",
       "1          LinearSearch      Reversed      10           10          0   \n",
       "2          LinearSearch  AlmostSorted      10            3          0   \n",
       "3          LinearSearch        Random      10           10          0   \n",
       "4    LinearSearchInsert        Sorted      10            0          1   \n",
       "..                  ...           ...     ...          ...        ...   \n",
       "179       AVLTreeRemove      Reversed  100000      1195394     100000   \n",
       "180       AVLTreeInsert  AlmostSorted  100000      1690897     100000   \n",
       "181       AVLTreeRemove  AlmostSorted  100000      1392150     163670   \n",
       "182       AVLTreeInsert        Random  100000      1476056      63180   \n",
       "183       AVLTreeRemove        Random  100000      1462262      96828   \n",
       "\n",
       "     Time(us)  \n",
       "0         172  \n",
       "1         133  \n",
       "2         155  \n",
       "3         172  \n",
       "4         162  \n",
       "..        ...  \n",
       "179     33701  \n",
       "180     60447  \n",
       "181     64550  \n",
       "182     61167  \n",
       "183     55702  \n",
       "\n",
       "[184 rows x 6 columns]"
      ]
     },
     "execution_count": 11,
     "metadata": {},
     "output_type": "execute_result"
    }
   ],
   "source": [
    "# Carregamento dos dados\n",
    "df = pd.read_csv('search_results.csv')\n",
    "\n",
    "# Visualização inicial dos dados\n",
    "df"
   ]
  },
  {
   "cell_type": "code",
   "execution_count": 23,
   "metadata": {},
   "outputs": [
    {
     "data": {
      "text/plain": [
       "array(['LinearSearch', 'LinearSearchInsert', 'LinearSearchRemove',\n",
       "       'BinarySearch', 'AVLTreeInsert', 'AVLTreeRemove',\n",
       "       'FingerTreeInsert', 'FingerTreeRemove', 'BinarySearchTreeInsert',\n",
       "       'BinarySearchTreeRemove'], dtype=object)"
      ]
     },
     "execution_count": 23,
     "metadata": {},
     "output_type": "execute_result"
    }
   ],
   "source": [
    "df.Algorithm.unique()"
   ]
  },
  {
   "cell_type": "code",
   "execution_count": 18,
   "metadata": {},
   "outputs": [],
   "source": [
    "# Função para criar gráficos comparativos com escala logarítmica\n",
    "def plot_log_comparison_array_type(df, metric, algorithm, title, ylabel):\n",
    "    df = df[df['Algorithm'] == algorithm]\n",
    "    plt.figure(figsize=(14, 8))\n",
    "    sns.barplot(x='Size', y=metric, hue='ArrayType', data=df)\n",
    "    plt.yscale('log')\n",
    "    plt.title(title)\n",
    "    plt.ylabel(ylabel)\n",
    "    plt.xlabel('Tamanho do Arranjo')\n",
    "    plt.legend(title='Algoritmo', bbox_to_anchor=(1.05, 1), loc='upper left')\n",
    "    plt.show()"
   ]
  },
  {
   "cell_type": "markdown",
   "metadata": {},
   "source": [
    "# Finger Tree"
   ]
  },
  {
   "cell_type": "markdown",
   "metadata": {},
   "source": [
    "## Inserção"
   ]
  },
  {
   "cell_type": "code",
   "execution_count": 37,
   "metadata": {},
   "outputs": [
    {
     "data": {
      "image/png": "[encoded data removed]",
      "text/plain": [
       "<Figure size 1400x800 with 1 Axes>"
      ]
     },
     "metadata": {},
     "output_type": "display_data"
    }
   ],
   "source": [
    "plot_log_comparison_array_type(df, 'Time(us)', 'FingerTreeInsert', 'Tempo de Execução da Busca Linear (Inserção)', 'Tempo de Execução (us)')"
   ]
  },
  {
   "cell_type": "code",
   "execution_count": 39,
   "metadata": {},
   "outputs": [
    {
     "name": "stdout",
     "output_type": "stream",
     "text": [
      "Size\n",
      "10            3.50\n",
      "100          38.75\n",
      "1000       2497.50\n",
      "10000    273369.00\n",
      "Name: Time(us), dtype: float64\n"
     ]
    },
    {
     "name": "stderr",
     "output_type": "stream",
     "text": [
      "/var/folders/85/574h3yqx42q367gsx6fddxd40000gn/T/ipykernel_36844/1389115844.py:2: SettingWithCopyWarning: \n",
      "A value is trying to be set on a copy of a slice from a DataFrame.\n",
      "Try using .loc[row_indexer,col_indexer] = value instead\n",
      "\n",
      "See the caveats in the documentation: https://pandas.pydata.org/pandas-docs/stable/user_guide/indexing.html#returning-a-view-versus-a-copy\n",
      "  df_finger_tree['Time(us)'] = pd.to_numeric(df_finger_tree['Time(us)'])\n"
     ]
    },
    {
     "data": {
      "text/plain": [
       "Size\n",
       "10            1.000000\n",
       "100          15.521490\n",
       "1000       2592.188843\n",
       "10000    310049.071620\n",
       "Name: Time(us), dtype: float64"
      ]
     },
     "execution_count": 39,
     "metadata": {},
     "output_type": "execute_result"
    }
   ],
   "source": [
    "df_finger_tree = df[df['Algorithm'] == 'FingerTreeInsert']\n",
    "df_finger_tree['Time(us)'] = pd.to_numeric(df_finger_tree['Time(us)'])\n",
    "print(df_finger_tree.groupby('Size')['Time(us)'].mean())\n",
    "df_finger_tree.groupby('Size')['Time(us)'].std()\n",
    "\n"
   ]
  },
  {
   "cell_type": "markdown",
   "metadata": {},
   "source": [
    "## Remoção"
   ]
  },
  {
   "cell_type": "code",
   "execution_count": 24,
   "metadata": {},
   "outputs": [
    {
     "data": {
      "image/png": "[encoded data removed]",
      "text/plain": [
       "<Figure size 1400x800 with 1 Axes>"
      ]
     },
     "metadata": {},
     "output_type": "display_data"
    }
   ],
   "source": [
    "plot_log_comparison_array_type(df, 'Time(us)', 'FingerTreeRemove', 'Tempo de Execução da Busca Linear (Inserção)', 'Tempo de Execução (us)')"
   ]
  },
  {
   "cell_type": "code",
   "execution_count": 36,
   "metadata": {},
   "outputs": [
    {
     "name": "stdout",
     "output_type": "stream",
     "text": [
      "Size\n",
      "10          2.25\n",
      "100        13.75\n",
      "1000      158.00\n",
      "10000    1792.00\n",
      "Name: Time(us), dtype: float64\n"
     ]
    },
    {
     "name": "stderr",
     "output_type": "stream",
     "text": [
      "/var/folders/85/574h3yqx42q367gsx6fddxd40000gn/T/ipykernel_36844/678054425.py:2: SettingWithCopyWarning: \n",
      "A value is trying to be set on a copy of a slice from a DataFrame.\n",
      "Try using .loc[row_indexer,col_indexer] = value instead\n",
      "\n",
      "See the caveats in the documentation: https://pandas.pydata.org/pandas-docs/stable/user_guide/indexing.html#returning-a-view-versus-a-copy\n",
      "  df_finger_tree['Time(us)'] = pd.to_numeric(df_finger_tree['Time(us)'])\n"
     ]
    },
    {
     "data": {
      "text/plain": [
       "Size\n",
       "10         0.500000\n",
       "100        2.362908\n",
       "1000      41.521079\n",
       "10000    585.344913\n",
       "Name: Time(us), dtype: float64"
      ]
     },
     "execution_count": 36,
     "metadata": {},
     "output_type": "execute_result"
    }
   ],
   "source": [
    "df_finger_tree = df[df['Algorithm'] == 'FingerTreeRemove']\n",
    "df_finger_tree['Time(us)'] = pd.to_numeric(df_finger_tree['Time(us)'])\n",
    "print(df_finger_tree.groupby('Size')['Time(us)'].mean())\n",
    "df_finger_tree.groupby('Size')['Time(us)'].std()\n",
    "\n"
   ]
  },
  {
   "cell_type": "markdown",
   "metadata": {},
   "source": [
    "## Pesquisa"
   ]
  },
  {
   "cell_type": "code",
   "execution_count": null,
   "metadata": {},
   "outputs": [],
   "source": [
    "plot_log_comparison_array_type(df, 'Time(us)', 'FingerTreeSearch', 'Tempo de Execução da Busca Linear (Inserção)', 'Tempo de Execução (us)')"
   ]
  },
  {
   "cell_type": "code",
   "execution_count": null,
   "metadata": {},
   "outputs": [],
   "source": [
    "df_finger_tree = df[df['Algorithm'] == 'FingerTreeSearch']\n",
    "df_finger_tree['Time(us)'] = pd.to_numeric(df_finger_tree['Time(us)'])\n",
    "print(df_finger_tree.groupby('Size')['Time(us)'].mean())\n",
    "df_finger_tree.groupby('Size')['Time(us)'].std()"
   ]
  },
  {
   "cell_type": "markdown",
   "metadata": {},
   "source": [
    "# Numero de comparações"
   ]
  },
  {
   "cell_type": "markdown",
   "metadata": {},
   "source": [
    "# Tempo das operações\n"
   ]
  },
  {
   "cell_type": "markdown",
   "metadata": {},
   "source": [
    "## Inserção"
   ]
  },
  {
   "cell_type": "code",
   "execution_count": null,
   "metadata": {},
   "outputs": [],
   "source": []
  },
  {
   "cell_type": "markdown",
   "metadata": {},
   "source": [
    "## Remoção"
   ]
  },
  {
   "cell_type": "markdown",
   "metadata": {},
   "source": [
    "## Pesquisa"
   ]
  }
 ],
 "metadata": {
  "kernelspec": {
   "display_name": "shell-short",
   "language": "python",
   "name": "python3"
  },
  "language_info": {
   "codemirror_mode": {
    "name": "ipython",
    "version": 3
   },
   "file_extension": ".py",
   "mimetype": "text/x-python",
   "name": "python",
   "nbconvert_exporter": "python",
   "pygments_lexer": "ipython3",
   "version": "3.12.3"
  }
 },
 "nbformat": 4,
 "nbformat_minor": 2
}
